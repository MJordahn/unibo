{
 "cells": [
  {
   "cell_type": "code",
   "execution_count": 9,
   "id": "fe14d5f1",
   "metadata": {},
   "outputs": [],
   "source": [
    "import json\n",
    "import os\n",
    "import numpy as np"
   ]
  },
  {
   "cell_type": "code",
   "execution_count": 14,
   "id": "e9e05102",
   "metadata": {},
   "outputs": [],
   "source": [
    "direct = \"results/FashionMNIST/\"\n",
    "hyperparam_list = []\n",
    "accuracies = []\n",
    "losses = []\n",
    "for filename in os.listdir(direct):\n",
    "    f = os.path.join(direct, filename)\n",
    "    f = open(f)\n",
    "    data = json.load(f)\n",
    "    hyperparam_list.extend(data[\"MNIST_results\"][\"hyperparams\"])\n",
    "    accuracies.extend(data[\"MNIST_results\"][\"accuracies\"])\n",
    "    losses.extend(data[\"MNIST_results\"][\"valid_losses\"])"
   ]
  },
  {
   "cell_type": "code",
   "execution_count": 15,
   "id": "f4f62ebc",
   "metadata": {},
   "outputs": [],
   "source": [
    "hyperparams = np.array(hyperparam_list)\n",
    "accuracies = np.array(accuracies)\n",
    "losses = np.array(losses)"
   ]
  },
  {
   "cell_type": "code",
   "execution_count": 16,
   "id": "9c83d9c3",
   "metadata": {},
   "outputs": [],
   "source": [
    "with open(\"datasets/FashionMNIST/optim_dataset/hyperparams.npy\", \"wb\") as f:\n",
    "    np.save(f, hyperparams)\n",
    "with open(\"datasets/FashionMNIST/optim_dataset/accuracies.npy\", \"wb\") as f:\n",
    "    np.save(f, accuracies)\n",
    "with open(\"datasets/FashionMNIST/optim_dataset/losses.npy\", \"wb\") as f:\n",
    "    np.save(f, losses)"
   ]
  },
  {
   "cell_type": "code",
   "execution_count": 13,
   "id": "5ead6755",
   "metadata": {},
   "outputs": [
    {
     "name": "stdout",
     "output_type": "stream",
     "text": [
      "[271.    4.5   8.    5.    0. ]\n"
     ]
    }
   ],
   "source": [
    "print(hyperparams[np.argmax(accuracies)])"
   ]
  },
  {
   "cell_type": "code",
   "execution_count": null,
   "id": "a5a8794a",
   "metadata": {},
   "outputs": [],
   "source": []
  }
 ],
 "metadata": {
  "kernelspec": {
   "display_name": "Python 3 (ipykernel)",
   "language": "python",
   "name": "python3"
  },
  "language_info": {
   "codemirror_mode": {
    "name": "ipython",
    "version": 3
   },
   "file_extension": ".py",
   "mimetype": "text/x-python",
   "name": "python",
   "nbconvert_exporter": "python",
   "pygments_lexer": "ipython3",
   "version": "3.8.13"
  }
 },
 "nbformat": 4,
 "nbformat_minor": 5
}
