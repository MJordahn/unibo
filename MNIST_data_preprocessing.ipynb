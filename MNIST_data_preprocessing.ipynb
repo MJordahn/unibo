{
 "cells": [
  {
   "cell_type": "code",
   "execution_count": 22,
   "id": "fe14d5f1",
   "metadata": {},
   "outputs": [],
   "source": [
    "import json\n",
    "import os\n",
    "import numpy as np"
   ]
  },
  {
   "cell_type": "code",
   "execution_count": 19,
   "id": "e9e05102",
   "metadata": {},
   "outputs": [],
   "source": [
    "direct = \"results/MNIST/\"\n",
    "hyperparam_list = []\n",
    "accuracies = []\n",
    "losses = []\n",
    "for filename in os.listdir(direct):\n",
    "    f = os.path.join(direct, filename)\n",
    "    f = open(f)\n",
    "    data = json.load(f)\n",
    "    hyperparam_list.extend(data[\"MNIST_results\"][\"hyperparams\"])\n",
    "    accuracies.extend(data[\"MNIST_results\"][\"accuracies\"])\n",
    "    losses.extend(data[\"MNIST_results\"][\"valid_losses\"])"
   ]
  },
  {
   "cell_type": "code",
   "execution_count": 23,
   "id": "f4f62ebc",
   "metadata": {},
   "outputs": [],
   "source": [
    "hyperparams = np.array(hyperparam_list)\n",
    "accuracies = np.array(accuracies)\n",
    "losses = np.array(losses)"
   ]
  },
  {
   "cell_type": "code",
   "execution_count": 24,
   "id": "9c83d9c3",
   "metadata": {},
   "outputs": [],
   "source": [
    "with open(\"datasets/MNIST/optim_dataset/hyperparams.npy\", \"wb\") as f:\n",
    "    np.save(f, hyperparams)\n",
    "with open(\"datasets/MNIST/optim_dataset/accuracies.npy\", \"wb\") as f:\n",
    "    np.save(f, accuracies)\n",
    "with open(\"datasets/MNIST/optim_dataset/losses.npy\", \"wb\") as f:\n",
    "    np.save(f, losses)"
   ]
  },
  {
   "cell_type": "code",
   "execution_count": 26,
   "id": "c1c0afad",
   "metadata": {},
   "outputs": [],
   "source": [
    "bounds=[]\n",
    "for i in range(len(hyperparams[0])):\n",
    "    index = np.random.choice(np.range(0, len(self.X_test)), 1)"
   ]
  },
  {
   "cell_type": "code",
   "execution_count": 27,
   "id": "ae40e36b",
   "metadata": {},
   "outputs": [
    {
     "name": "stdout",
     "output_type": "stream",
     "text": [
      "[(1.0, 271.0), (-11.51, -2.23), (8.0, 232.0), (1.0, 10.0), (0.0, 0.8)]\n"
     ]
    }
   ],
   "source": [
    "print(bounds)"
   ]
  },
  {
   "cell_type": "code",
   "execution_count": 33,
   "id": "c93c24a2",
   "metadata": {},
   "outputs": [
    {
     "name": "stdout",
     "output_type": "stream",
     "text": [
      "[60689]\n"
     ]
    }
   ],
   "source": [
    "index = np.random.choice(range(0, len(hyperparams)), 1)\n",
    "print(index)"
   ]
  },
  {
   "cell_type": "code",
   "execution_count": 38,
   "id": "635d201b",
   "metadata": {},
   "outputs": [
    {
     "name": "stdout",
     "output_type": "stream",
     "text": [
      "[[1 1]\n",
      " [2 2]\n",
      " [3 3]]\n",
      "[[2 2]\n",
      " [3 3]]\n"
     ]
    }
   ],
   "source": [
    "alist = np.array([[1, 1], [2, 2], [3, 3]])\n",
    "print(alist)\n",
    "print(np.delete(alist, 0, 0))"
   ]
  },
  {
   "cell_type": "code",
   "execution_count": null,
   "id": "5ead6755",
   "metadata": {},
   "outputs": [],
   "source": []
  }
 ],
 "metadata": {
  "kernelspec": {
   "display_name": "Python 3 (ipykernel)",
   "language": "python",
   "name": "python3"
  },
  "language_info": {
   "codemirror_mode": {
    "name": "ipython",
    "version": 3
   },
   "file_extension": ".py",
   "mimetype": "text/x-python",
   "name": "python",
   "nbconvert_exporter": "python",
   "pygments_lexer": "ipython3",
   "version": "3.10.6"
  }
 },
 "nbformat": 4,
 "nbformat_minor": 5
}
