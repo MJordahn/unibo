{
 "cells": [
  {
   "cell_type": "code",
   "execution_count": 14,
   "id": "37f3cbae",
   "metadata": {
    "scrolled": false
   },
   "outputs": [],
   "source": [
    "import json\n",
    "import os\n",
    "import numpy as np\n",
    "import shutil\n",
    "import pandas as pd\n",
    "import copy\n",
    "main_directory=\"./results_real_data/\"\n",
    "subdirectories = ['results_FashionMNIST/', \"results_FashionMNIST_CNN/\", 'results_mnist/', 'results_MNIST_CNN/', 'results_News/', 'results_SVM/']#'results_FashionMNIST_recalibrator/', \"results_FashionMNIST_CNN_recalibrator/\", 'results_mnist_recalibrator/', 'results_MNIST_CNN_recalibrator/', 'results_News_recalibrator/', 'results_SVM_recalibrator/']\n",
    "seed_count = {}\n",
    "for subdirectory in subdirectories:\n",
    "    full_path = os.path.join(main_directory, subdirectory)\n",
    "    subdirect_count_complete = 0\n",
    "    subdirect_missing = 0\n",
    "    for foldername in os.listdir(full_path):\n",
    "        folder = os.path.join(full_path, foldername)\n",
    "        if os.path.isdir(folder):\n",
    "            has_params = False\n",
    "            has_metrics = False\n",
    "            has_dataset = False\n",
    "            for filename in os.listdir(folder):\n",
    "                if filename.find(\"param\") != -1:\n",
    "                    params = json.load(open(os.path.join(folder, filename)))\n",
    "                    if params['seed'] not in list(seed_count.keys()):\n",
    "                        seed_count[params['seed']] = 1\n",
    "                    else:\n",
    "                        seed_count[params['seed']] += 1\n",
    "                    has_params = True\n",
    "                elif filename.find(\"metric\") != -1:\n",
    "                    has_metrics = True\n",
    "                elif filename.find(\"dataset\") != -1:\n",
    "                    has_data = True\n",
    "            if not has_params or not has_metrics or not has_data:\n",
    "                \n",
    "                subdirect_missing += 1\n",
    "                    #if params['acquisition'] == \"TS\":\n",
    "                #shutil.rmtree(folder)\n",
    "            else:\n",
    "                for tag in foldername.split(\"--\"):\n",
    "                    if tag.find(\"seed\") != -1:\n",
    "                        if int(tag.split(\"-\")[1]) > 59:\n",
    "                            shutil.rmtree(folder)\n",
    "                subdirect_count_complete += 1\n",
    "    \n"
   ]
  },
  {
   "cell_type": "code",
   "execution_count": 15,
   "id": "109183f9",
   "metadata": {},
   "outputs": [
    {
     "name": "stdout",
     "output_type": "stream",
     "text": [
      "{20: 96, 21: 96, 30: 96, 31: 96, 50: 96, 51: 96, 22: 96, 23: 96, 32: 96, 33: 96, 52: 96, 53: 96, 24: 96, 25: 96, 34: 96, 35: 96, 54: 96, 55: 96, 26: 96, 27: 96, 36: 96, 37: 96, 56: 96, 57: 96, 28: 96, 29: 96, 38: 96, 39: 96, 58: 96, 59: 96, 6: 96, 7: 96, 8: 96, 9: 96, 10: 96, 11: 96, 12: 96, 13: 96, 14: 96, 15: 96, 16: 96, 17: 96, 18: 96, 19: 96, 40: 96, 41: 96, 42: 96, 43: 96, 44: 96, 45: 96, 46: 96, 47: 96, 48: 96, 49: 96, 1: 96, 2: 96, 3: 96, 4: 96, 5: 96}\n"
     ]
    }
   ],
   "source": [
    "print(seed_count)\n",
    "for key in seed_count.keys():\n",
    "    if seed_count[key] != 96:\n",
    "        print(key)\n",
    "        #print(seed_count[key])"
   ]
  },
  {
   "cell_type": "code",
   "execution_count": 27,
   "id": "63a0c293",
   "metadata": {},
   "outputs": [],
   "source": [
    "#Instantaneous regret of pool rankings from real_data with vanilla uncertanties.\n",
    "import json\n",
    "import os\n",
    "import numpy as np\n",
    "import pandas as pd\n",
    "import copy\n",
    "exp_dict = {'surrogate': [], 'acquisition': [], 'seed':[], 'data':[], 'dist_nearest_train':[], 'inst_regret_test':[], 'inst_regret_pool':[], 'tot_regret_test':[], 'tot_regret_pool':[], 'calibration_mse':[], 'sharpness':[], 'x_opt_dist_test':[], 'x_opt_dist_pool':[]}\n",
    "main_directory=\"./results_real_data/\"\n",
    "subdirectories = ['results_FashionMNIST/', \"results_FashionMNIST_CNN/\", 'results_mnist/', 'results_MNIST_CNN/', 'results_News/', 'results_SVM/']\n",
    "for subdirectory in subdirectories:\n",
    "    full_path = os.path.join(main_directory, subdirectory)\n",
    "    for foldername in os.listdir(full_path):\n",
    "        folder = os.path.join(full_path, foldername)\n",
    "        if os.path.isdir(folder):\n",
    "            for filename in os.listdir(folder):\n",
    "                if filename.find(\"parameters\") != -1:\n",
    "                    json_file = open(os.path.join(folder, filename))\n",
    "                    params = json.load(json_file)\n",
    "                elif filename.find(\"metrics\") != -1:\n",
    "                    json_file = open(os.path.join(folder, filename))\n",
    "                    metrics = json.load(json_file)\n",
    "            if params['bo'] == True:\n",
    "                exp_dict['surrogate'].append(params['surrogate'])\n",
    "                exp_dict['acquisition'].append(params['acquisition'])\n",
    "                exp_dict['data'].append(params['data_name'])\n",
    "                exp_dict['dist_nearest_train'].append(metrics['next_sample_train_distance'])\n",
    "                exp_dict['inst_regret_test'].append(metrics['y_regret_test'])\n",
    "                exp_dict['inst_regret_pool'].append(metrics['y_regret_pool'])\n",
    "                exp_dict['tot_regret_test'].append(np.cumsum(metrics['y_regret_test']))\n",
    "                exp_dict['tot_regret_pool'].append(np.cumsum(metrics['y_regret_pool']))\n",
    "                exp_dict['x_opt_dist_pool'].append(metrics['x_y_opt_dist_pool'])\n",
    "                exp_dict['x_opt_dist_test'].append(metrics['x_y_opt_dist_test'])\n",
    "                exp_dict['sharpness'].append(metrics['mean_sharpness'])\n",
    "                exp_dict['calibration_mse'].append(metrics['y_calibration_mse'])\n",
    "                exp_dict['seed'].append(params['seed'])\n",
    "df = pd.DataFrame.from_dict(exp_dict)\n",
    "processed_results = {'surrogate': [], 'acquisition': [], 'seed':[], 'data':[], 'dist_nearest_train_mean':[], 'inst_regret_test':[], 'inst_regret_pool':[], 'tot_regret_test':[], 'tot_regret_pool':[], 'calibration_mse':[], 'sharpness':[], 'x_opt_dist_test':[], 'x_opt_dist_pool':[]}\n",
    "for index, row in df.iterrows():\n",
    "    processed_results['surrogate'].append(row['surrogate'])\n",
    "    processed_results['acquisition'].append(row['acquisition'])\n",
    "    processed_results['data'].append(row['data'])\n",
    "    processed_results['seed'].append(row['seed'])\n",
    "    processed_results['dist_nearest_train_mean'].append(np.array(row['dist_nearest_train']).mean()) #Mean across one BO run.\n",
    "    processed_results['inst_regret_pool'].append(np.array(row['inst_regret_pool'])[-1]) #Last iter.\n",
    "    processed_results['inst_regret_test'].append(np.array(row['inst_regret_test'])[-1]) #Last iter.\n",
    "    processed_results['tot_regret_test'].append(np.array(row['tot_regret_test'])[-1]) #Last iter.\n",
    "    processed_results['tot_regret_pool'].append(np.array(row['tot_regret_pool'])[-1]) #Last iter.\n",
    "    processed_results['calibration_mse'].append(np.array(row['calibration_mse']).mean()) #Mean Calibration MSE over run.\n",
    "    processed_results['sharpness'].append(np.array(row['sharpness']).mean()) #Mean sharpness over run.\n",
    "    processed_results['x_opt_dist_test'].append(np.array(row['x_opt_dist_test'])[-1])\n",
    "    processed_results['x_opt_dist_pool'].append(np.array(row['x_opt_dist_pool'])[-1])\n",
    "#Same seed and same dataset are ranked together.\n",
    "df = pd.DataFrame.from_dict(processed_results)"
   ]
  },
  {
   "cell_type": "code",
   "execution_count": 37,
   "id": "051460cf",
   "metadata": {},
   "outputs": [
    {
     "name": "stdout",
     "output_type": "stream",
     "text": [
      "{1, 2, 3, 4, 5, 6, 7, 8, 9, 10, 11, 12, 13, 14, 15, 16, 17, 18, 19, 20, 21, 22, 23, 24, 25, 26, 27, 28, 29, 30, 32, 34, 36, 38}\n"
     ]
    }
   ],
   "source": [
    "print(set(df.loc[df['surrogate']==\"RF\"]['seed']))"
   ]
  },
  {
   "cell_type": "code",
   "execution_count": null,
   "id": "a23086e8",
   "metadata": {},
   "outputs": [],
   "source": []
  }
 ],
 "metadata": {
  "kernelspec": {
   "display_name": "Python 3 (ipykernel)",
   "language": "python",
   "name": "python3"
  },
  "language_info": {
   "codemirror_mode": {
    "name": "ipython",
    "version": 3
   },
   "file_extension": ".py",
   "mimetype": "text/x-python",
   "name": "python",
   "nbconvert_exporter": "python",
   "pygments_lexer": "ipython3",
   "version": "3.8.13"
  }
 },
 "nbformat": 4,
 "nbformat_minor": 5
}
