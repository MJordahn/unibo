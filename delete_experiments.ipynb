{
 "cells": [
  {
   "cell_type": "code",
   "execution_count": 10,
   "id": "37f3cbae",
   "metadata": {},
   "outputs": [],
   "source": [
    "import json\n",
    "import os\n",
    "import numpy as np\n",
    "import shutil\n",
    "import pandas as pd\n",
    "import copy\n",
    "main_directory=\"./results_real_data/\"\n",
    "subdirectories = ['results_FashionMNIST/', \"results_FashionMNIST_CNN/\", 'results_mnist/', 'results_MNIST_CNN/', 'results_News/', 'results_SVM/', 'results_FashionMNIST_recalibrator/', \"results_FashionMNIST_CNN_recalibrator/\", 'results_mnist_recalibrator/', 'results_MNIST_CNN_recalibrator/', 'results_News_recalibrator/', 'results_SVM_recalibrator/']\n",
    "for subdirectory in subdirectories:\n",
    "    full_path = os.path.join(main_directory, subdirectory)\n",
    "    for foldername in os.listdir(full_path):\n",
    "        folder = os.path.join(full_path, foldername)\n",
    "        if os.path.isdir(folder):\n",
    "            for filename in os.listdir(folder):\n",
    "                if filename.find(\"param\") != -1:\n",
    "                    params = json.load(open(os.path.join(folder, filename)))\n",
    "                    if params['acquisition'] == \"TS\":\n",
    "                        #shutil.rmtree(folder)"
   ]
  },
  {
   "cell_type": "code",
   "execution_count": null,
   "id": "63a0c293",
   "metadata": {},
   "outputs": [],
   "source": []
  }
 ],
 "metadata": {
  "kernelspec": {
   "display_name": "Python 3 (ipykernel)",
   "language": "python",
   "name": "python3"
  },
  "language_info": {
   "codemirror_mode": {
    "name": "ipython",
    "version": 3
   },
   "file_extension": ".py",
   "mimetype": "text/x-python",
   "name": "python",
   "nbconvert_exporter": "python",
   "pygments_lexer": "ipython3",
   "version": "3.10.8"
  }
 },
 "nbformat": 4,
 "nbformat_minor": 5
}
