{
 "cells": [
  {
   "cell_type": "code",
   "execution_count": null,
   "metadata": {},
   "outputs": [],
   "source": [
    "from src.parameters import Parameters\n",
    "from src.experiment import Experiment\n",
    "from imports.general import *\n",
    "from imports.ml import *\n",
    "\n",
    "parameters = Parameters({\"surrogate\":\"RF\",\n",
    "\"experiment\":\"1\",\n",
    "\"acquisition\":\"EI\",\n",
    "\"data_name\":\"benchmark\",\n",
    "\"n_evals\":40,\n",
    "\"recalibrate\":False,\n",
    "\"bo\":True,\n",
    "\"extensive_metrics\":True,\n",
    "\"d\":3,\n",
    "\"recal_mode\":\"cv\",\n",
    "\"problem_idx\":5, \n",
    "\"seed\":0 ,\n",
    "\"n_initial\":10},mkdir=True)\n",
    "experiment = Experiment(parameters)\n",
    "experiment.run()"
   ]
  },
  {
   "cell_type": "code",
   "execution_count": null,
   "metadata": {},
   "outputs": [],
   "source": [
    "from src.parameters import Parameters\n",
    "from src.experiment import Experiment\n",
    "from src.dataset import Dataset\n",
    "from imports.general import *\n",
    "from imports.ml import *\n",
    "parameters = Parameters({\"surrogate\":\"RF\",\n",
    "\"data_name\":\"mnist\",\n",
    "\"seed\":0,\n",
    "\"bo\":True,},mkdir=True)\n",
    "experiment = Experiment(parameters)\n",
    "experiment.run()"
   ]
  },
  {
   "cell_type": "code",
   "execution_count": null,
   "metadata": {},
   "outputs": [],
   "source": [
    "plt.plot(experiment.metrics.summary[\"p_array\"],experiment.metrics.summary[\"y_calibration\"][0])\n",
    "plt.plot(experiment.metrics.summary[\"p_array\"],experiment.metrics.summary[\"y_calibration\"][1])\n",
    "plt.plot(experiment.metrics.summary[\"p_array\"],experiment.metrics.summary[\"p_array\"])\n"
   ]
  },
  {
   "cell_type": "code",
   "execution_count": null,
   "metadata": {},
   "outputs": [],
   "source": [
    "if parameters.d == 1:\n",
    "\tidx = np.argsort(experiment.dataset.data.X_test.squeeze())\n",
    "\tX_test = experiment.dataset.data.X_test[idx]\n",
    "\ty_test = experiment.dataset.data.y_test[idx]\n",
    "\tmu,sigma = experiment.optimizer.surrogate_object.predict(X_test)\n",
    "\tmu = mu.squeeze()\n",
    "\tsigma = 2*sigma.squeeze()\n",
    "\tfig = plt.figure()\n",
    "\tplt.plot(X_test, mu, marker=\".\")\n",
    "\tplt.fill_between(X_test.squeeze(), mu-sigma,mu+sigma,alpha=0.2)\n",
    "\tplt.plot(X_test, y_test,\"x\",alpha=0.2)\n",
    "\tplt.plot(experiment.dataset.data.X_train, experiment.dataset.data.y_train,\"o\")\n",
    "\n",
    "\tfig = plt.figure()\n",
    "\ta_vals = experiment.optimizer.acquisition_function(torch.from_numpy(np.expand_dims(X_test, 1))).cpu().detach().squeeze()\n",
    "\tplt.plot(X_test,a_vals)"
   ]
  },
  {
   "cell_type": "markdown",
   "metadata": {},
   "source": [
    "# 1. Extensive investigation"
   ]
  },
  {
   "cell_type": "code",
   "execution_count": null,
   "metadata": {},
   "outputs": [],
   "source": [
    "from figs.scripts.loader import Loader\n",
    "from figs.scripts.tables import Tables\n",
    "from figs.scripts.figures import Figures\n",
    "from imports.general import *\n",
    "from imports.ml import *\n",
    "loader = Loader()\n",
    "# loader.path2sql([\"results_regret_vs_calibration__\"])\n",
    "tables = Tables()\n",
    "figures = Figures()\n",
    "# # For paper:\n",
    "# Tabel 1:\n",
    "tables.table_linear_correlation(table_name=\"results_regret_vs_calibration__\")\n",
    "# # Tabel 2:\n",
    "# tables.table_linear_model(X_bo=False)\n",
    "# # Tabel 3:\n",
    "# tables.table_linear_model(X_bo=True)\n",
    "# # Figure 1:\n",
    "# figures.figure_regret_calibration(settings_x = {\"bo\": True, \"metric\": \"f_regret\"},\n",
    "#         settings_y = {\"bo\": True, \"metric\": \"y_calibration_mse\"},\n",
    "#         x_figsettings= {\"label\": r\"$\\mathcal{R}_I(f)$\", \"log\": True},\n",
    "#         y_figsettings= {\"label\": r\"$\\mathcal{C}_{BO}(y)$\", \"log\": True},)\n",
    "\n",
    "# figures.figure_regret_calibration(settings_x = {\"bo\": True, \"metric\": \"f_regret\"},\n",
    "#         settings_y = {\"bo\": False, \"metric\": \"y_calibration_mse\"},\n",
    "#         x_figsettings= {\"label\": r\"$\\mathcal{R}_I(f)$\", \"log\": True},\n",
    "        # y_figsettings= {\"label\": r\"$\\mathcal{C}_{R}(y)$\", \"log\": True},)\n",
    "\n",
    "\n"
   ]
  },
  {
   "cell_type": "code",
   "execution_count": null,
   "metadata": {},
   "outputs": [],
   "source": [
    "from figs.scripts.figures import Figures\n",
    "from figs.scripts.tables import Tables\n",
    "from imports.general import *\n",
    "from imports.ml import *\n",
    "figures = Figures()\n",
    "tables = Tables()\n",
    "loader = Loader()\n",
    "cnx = sqlite3.connect(\"./results.db\")\n",
    "table_name = \"results_regret_vs_calibration\"\n",
    "query = loader.dict2query(FROM=table_name, SELECT=[\"surrogate\"])\n",
    "df = pd.read_sql(query, cnx)\n",
    "surrogates = sorted(df[\"surrogate\"].unique())\n",
    "snr = 10\n",
    "markers = [\"o\", \"v\", \"s\", \"x\", \"d\"]\n",
    "colors = plt.cm.plasma(np.linspace(0, 1, len(markers)))\n",
    "\n",
    "row = \"\"\n",
    "for bo in [False, True]:\n",
    "    plt.figure()\n",
    "    for recal in [False]:\n",
    "        for i_s,surrogate in enumerate(surrogates):\n",
    "            x1 = pd.read_sql(\n",
    "                loader.dict2query(\n",
    "                    FROM=table_name,\n",
    "                    SELECT=[\n",
    "                        \"f_regret\",\n",
    "                        \"y_calibration_mse\",\n",
    "                    ],\n",
    "                    WHERE={\"bo\": bo, \"recalibrate\": recal, \"snr\": snr, \"std_change\":1.0, \"surrogate\":surrogate},\n",
    "                    ORDERBY=[\"seed\", \"d\", \"problem\", \"surrogate\",],\n",
    "                ),\n",
    "                cnx,\n",
    "            )\n",
    "            if surrogate not in [\"RS\",\"DS\"]:\n",
    "                x1 = x1.replace(\"NULL\", np.nan, regex=True)\n",
    "                x1 = x1.dropna(how=\"any\", axis=0)\n",
    "                x = x1[[\"y_calibration_mse\"]].to_numpy() + 1e-8\n",
    "                y = x1[[\"f_regret\"]].to_numpy() + 1e-8\n",
    "                rho,p_val  = pearsonr(x.squeeze(), y.squeeze())\n",
    "                print(surrogate,rho,p_val)\n",
    "                plt.plot(y,x,markers[i_s],color=colors[i_s])\n",
    "                plt.xscale(\"log\");\n",
    "                plt.yscale(\"log\");"
   ]
  },
  {
   "cell_type": "markdown",
   "metadata": {},
   "source": [
    "# 2. Change in predictive std"
   ]
  },
  {
   "cell_type": "code",
   "execution_count": null,
   "metadata": {},
   "outputs": [],
   "source": [
    "from figs.scripts.figures import Figures\n",
    "from figs.scripts.loader import Loader\n",
    "from imports.general import *\n",
    "from imports.ml import *\n",
    "figures = Figures()\n",
    "loader = Loader()\n",
    "# loader.path2sql([\"results_change_std\"])\n",
    "\n",
    "# figures.figure_std_vs_metric(settings={\n",
    "#             \"data_name\": \"benchmark\",\n",
    "#             \"epoch\": 90,\n",
    "#             \"snr\": 100,\n",
    "#             \"bo\": False,\n",
    "#         })\n",
    "# figures.figure_std_vs_metric(settings={\n",
    "#             \"data_name\": \"benchmark\",\n",
    "#             \"epoch\": 90,\n",
    "#             \"snr\": 100,\n",
    "#             \"bo\": True,\n",
    "#         })\n",
    "# figures.figure_std_vs_metric(settings={\n",
    "#             \"data_name\": \"benchmark\",\n",
    "#             \"epoch\": 90,\n",
    "#             \"snr\": 100,\n",
    "#             \"bo\": True,\n",
    "#         },y = \"f_regret\")\n",
    "figures.scatter_regret_calibration_std_change(average=True)\n"
   ]
  },
  {
   "cell_type": "markdown",
   "metadata": {},
   "source": [
    "# 3. The effect of the number of samples"
   ]
  },
  {
   "cell_type": "code",
   "execution_count": null,
   "metadata": {},
   "outputs": [],
   "source": [
    "from imports.general import *\n",
    "from imports.ml import *\n",
    "from theory_experiments.samples import SamplesExperiment\n",
    "exp = SamplesExperiment(big_plot=False)\n",
    "exp.run()"
   ]
  },
  {
   "cell_type": "markdown",
   "metadata": {},
   "source": [
    "# 4. Recalibration"
   ]
  },
  {
   "cell_type": "code",
   "execution_count": null,
   "metadata": {},
   "outputs": [],
   "source": [
    "from src.parameters import Parameters\n",
    "from src.recalibrator import Recalibrator\n",
    "from src.dataset import Dataset\n",
    "from src.metrics import Metrics\n",
    "from surrogates.gaussian_process import GaussianProcess\n",
    "\n",
    "parameters = Parameters({\"surrogate\":\"RF\",\n",
    "\"experiment\":\"1\",\n",
    "\"acquisition\":\"EI\",\n",
    "\"data_name\":\"benchmark\",\n",
    "\"n_evals\":50,\n",
    "\"n_test\":1000,\n",
    "\"snr\":10,\n",
    "\"xi\":0.0,\n",
    "\"bo\":True,\n",
    "\"problem_idx\":3, \n",
    "\"d\":1,\n",
    "\"seed\":0 ,\n",
    "\"n_initial\":10},mkdir=True)\n",
    "\n",
    "dataset = Dataset(parameters)\n",
    "model = GaussianProcess(parameters,dataset)\n",
    "recalibrator = Recalibrator(dataset,model,mode=\"iid\")\n",
    "\n",
    "model.fit(dataset.data.X_train,dataset.data.y_train)\n",
    "\n",
    "idx = np.argsort(dataset.data.X_test.squeeze())\n",
    "X_test = dataset.data.X_test[idx]\n",
    "y_test = dataset.data.y_test[idx]\n",
    "mus_,sigmas_ = model.predict(X_test)\n",
    "mus_ = mus_.squeeze()\n",
    "sigmas_ = sigmas_.squeeze()\n",
    "fig = plt.figure()\n",
    "plt.plot(X_test, mus_, marker=\".\")\n",
    "plt.fill_between(X_test.squeeze(), mus_-2*sigmas_,mus_+2*sigmas_,alpha=0.2)\n",
    "plt.plot(X_test, y_test,\"x\",alpha=0.2)\n",
    "plt.plot(dataset.data.X_train, dataset.data.y_train,\"o\")\n",
    "\n",
    "mus,sigmas = recalibrator.recalibrate(mus_,sigmas_)\n",
    "fig = plt.figure()\n",
    "plt.plot(X_test, mus, marker=\".\")\n",
    "plt.fill_between(X_test.squeeze(), mus-2*sigmas,mus+2*sigmas,alpha=0.2)\n",
    "plt.plot(X_test, y_test,\"x\",alpha=0.2)\n",
    "plt.plot(dataset.data.X_train, dataset.data.y_train,\"o\")\n",
    "\n",
    "metrics = Metrics(parameters)\n",
    "\n",
    "metrics.calibration_y_batched(mus_,sigmas_,y_test)\n",
    "y_calibration_bef = metrics.summary[\"y_calibration\"]\n",
    "\n",
    "metrics.calibration_y_batched(mus,sigmas,y_test)\n",
    "y_calibration_aft = metrics.summary[\"y_calibration\"]\n",
    "\n",
    "fig = plt.figure()\n",
    "plt.plot(metrics.summary[\"p_array\"],metrics.summary[\"p_array\"],\"--\")\n",
    "plt.plot(metrics.summary[\"p_array\"],y_calibration_bef,\"-x\",label=\"Before\")\n",
    "plt.plot(metrics.summary[\"p_array\"],y_calibration_aft,\"-s\",label=\"After\")\n",
    "plt.legend(); plt.xlabel(r\"Expected Confidence Interval\"); plt.ylabel(\"Observed Confidence Interval\");\n",
    "\n"
   ]
  },
  {
   "cell_type": "markdown",
   "metadata": {},
   "source": [
    "# 5. MNIST"
   ]
  },
  {
   "cell_type": "code",
   "execution_count": null,
   "metadata": {},
   "outputs": [],
   "source": [
    "# Make table\n",
    "from figs.scripts.figures import Figures\n",
    "from figs.scripts.tables import Tables\n",
    "from figs.scripts.loader import Loader\n",
    "from imports.general import *\n",
    "from imports.ml import *\n",
    "loader = Loader()\n",
    "table_name = \"results_mnist\"\n",
    "# loader.path2sql([table_name],delete_existing=True)\n",
    "tables = Tables()\n",
    "tables.table_real_data(table_name=table_name)"
   ]
  },
  {
   "cell_type": "code",
   "execution_count": null,
   "metadata": {},
   "outputs": [],
   "source": [
    "y_test = -np.load(\"./datasets/MNIST/optim_dataset/accuracies.npy\")\n",
    "y_test = (y_test-np.mean(y_test))/np.std(y_test)\n",
    "\n",
    "plt.hist(y_test,bins=100);\n",
    "plt.xlabel(\"standardized \");"
   ]
  },
  {
   "cell_type": "code",
   "execution_count": null,
   "metadata": {},
   "outputs": [],
   "source": [
    "np.random.seed(0)\n",
    "data = []\n",
    "data_t = []\n",
    "for e in range(100):\n",
    "\ty_rand = np.random.choice(y_test,size=100)\n",
    "\ty_rand = np.abs(y_rand - np.min(y_test))\n",
    "\tdata.append(np.min(y_rand))\n",
    "\tdata_t.append(np.sum(np.minimum.accumulate(y_rand)))\n",
    "\n",
    "print(np.mean(data),np.std(data))\n",
    "print(np.mean(data_t),np.std(data_t))\n"
   ]
  }
 ],
 "metadata": {
  "interpreter": {
   "hash": "31d7989649452b8ff5b252a3e34caf45e4ffd8a5787fe28fc2ce0245f11b7782"
  },
  "kernelspec": {
   "display_name": "Python 3.9.4 ('ml')",
   "language": "python",
   "name": "python3"
  },
  "language_info": {
   "codemirror_mode": {
    "name": "ipython",
    "version": 3
   },
   "file_extension": ".py",
   "mimetype": "text/x-python",
   "name": "python",
   "nbconvert_exporter": "python",
   "pygments_lexer": "ipython3",
   "version": "3.9.4"
  },
  "orig_nbformat": 4
 },
 "nbformat": 4,
 "nbformat_minor": 2
}
